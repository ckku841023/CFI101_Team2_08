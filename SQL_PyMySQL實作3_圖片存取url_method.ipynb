{
 "cells": [
  {
   "cell_type": "markdown",
   "id": "5d64368e",
   "metadata": {},
   "source": [
    "# 實作3. SQL使用名稱跟位置(url)儲存圖片"
   ]
  },
  {
   "cell_type": "markdown",
   "id": "77fd6e9f",
   "metadata": {},
   "source": [
    "> pymysql純存地址參考資料:<br>\n",
    ">    https://www.796t.com/article.php?id=209513<br>\n",
    "> 補充資料(JavaScript):<br>\n",
    ">https://www.zymseo.com/big5/biancheng_310720"
   ]
  },
  {
   "cell_type": "markdown",
   "id": "90549de2",
   "metadata": {},
   "source": [
    "> flask儲存圖片的參考網址:\n",
    "    https://blog.csdn.net/dcrmg/article/details/81987808"
   ]
  },
  {
   "cell_type": "markdown",
   "id": "2b592d61",
   "metadata": {},
   "source": [
    "## 1-1.在MySQL server建立table來儲存url位置和其他資訊:"
   ]
  },
  {
   "cell_type": "code",
   "execution_count": 14,
   "id": "b119e7c4",
   "metadata": {},
   "outputs": [
    {
     "name": "stdout",
     "output_type": "stream",
     "text": [
      "============\n",
      "Done! Table was built!\n"
     ]
    }
   ],
   "source": [
    "import pymysql\n",
    "import sys\n",
    "# from sqlalchemy.exc import OperationalError\n",
    "\n",
    "# 建立連線\n",
    "conn = pymysql.connect(host=\"127.0.0.1\",\n",
    "                       port = 3306,\n",
    "                       user=\"user1\",\n",
    "                       password=\"123456\",\n",
    "                       database=\"team2_test\",\n",
    "                       use_unicode=True)\n",
    "# 建立遊標\n",
    "cursor = conn.cursor()\n",
    "\n",
    "# 提交，不然無法儲存新建或者修改的資料\n",
    "conn.commit()\n",
    "\n",
    "# # 建立table的 sql語法\n",
    "sql = '''CREATE TABLE `team2_test`.`img_address` (\n",
    "  `img_id` INT NOT NULL,\n",
    "  `img_name` VARCHAR(50) NULL,\n",
    "  `img_url` VARCHAR(50) NULL,\n",
    "  `datetime` DATETIME NULL,\n",
    "  PRIMARY KEY (`img_id`));'''\n",
    "\n",
    "# sql = '''DROP TABLE img_address'''\n",
    "\n",
    "try: \n",
    "    cursor.execute(sql)   \n",
    "\n",
    "except:\n",
    "    print(\"[ERROR]: Table 'img_address' already exists\")\n",
    "\n",
    "    \n",
    "# 關閉遊標\n",
    "cursor.close()\n",
    "# 關閉連線\n",
    "conn.close()\n",
    "    \n",
    "print(\"============\")\n",
    "print(\"Done! Table was built!\")"
   ]
  },
  {
   "cell_type": "markdown",
   "id": "5cf360eb",
   "metadata": {},
   "source": [
    "## 1-2. 圖片讀取存到路徑下:"
   ]
  },
  {
   "cell_type": "code",
   "execution_count": 20,
   "id": "5571e484",
   "metadata": {},
   "outputs": [
    {
     "name": "stdout",
     "output_type": "stream",
     "text": [
      "(162, 175, 3)\n"
     ]
    }
   ],
   "source": [
    "import cv2\n",
    "import pymysql\n",
    "import sys\n",
    "import os\n",
    "\n",
    "# os.getcwd()\n",
    "img = cv2.imread('./practice_img/trello_head.png')\n",
    "print(img.shape)"
   ]
  },
  {
   "cell_type": "markdown",
   "id": "5b552ac0",
   "metadata": {},
   "source": [
    "# 2.flask架設"
   ]
  },
  {
   "cell_type": "markdown",
   "id": "d4853e4b",
   "metadata": {},
   "source": [
    "## 2-1.下載模組:"
   ]
  },
  {
   "cell_type": "code",
   "execution_count": 24,
   "id": "c61477b1",
   "metadata": {},
   "outputs": [
    {
     "name": "stdout",
     "output_type": "stream",
     "text": [
      "Requirement already satisfied: flask in c:\\users\\user\\anaconda3\\envs\\base (root)\\lib\\site-packages (2.0.2)\n",
      "Requirement already satisfied: click>=7.1.2 in c:\\users\\user\\anaconda3\\envs\\base (root)\\lib\\site-packages (from flask) (8.0.3)\n",
      "Requirement already satisfied: itsdangerous>=2.0 in c:\\users\\user\\anaconda3\\envs\\base (root)\\lib\\site-packages (from flask) (2.0.1)\n",
      "Requirement already satisfied: Werkzeug>=2.0 in c:\\users\\user\\anaconda3\\envs\\base (root)\\lib\\site-packages (from flask) (2.0.2)\n",
      "Requirement already satisfied: Jinja2>=3.0 in c:\\users\\user\\anaconda3\\envs\\base (root)\\lib\\site-packages (from flask) (3.0.2)\n",
      "Requirement already satisfied: colorama in c:\\users\\user\\anaconda3\\envs\\base (root)\\lib\\site-packages (from click>=7.1.2->flask) (0.4.4)\n",
      "Requirement already satisfied: MarkupSafe>=2.0 in c:\\users\\user\\anaconda3\\envs\\base (root)\\lib\\site-packages (from Jinja2>=3.0->flask) (2.0.1)\n"
     ]
    }
   ],
   "source": [
    "!pip install flask"
   ]
  },
  {
   "cell_type": "code",
   "execution_count": 31,
   "id": "5aab14ee",
   "metadata": {},
   "outputs": [
    {
     "name": "stdout",
     "output_type": "stream",
     "text": [
      "Requirement already satisfied: opencv-python in c:\\users\\user\\anaconda3\\envs\\base (root)\\lib\\site-packages (4.5.4.58)\n",
      "Requirement already satisfied: numpy>=1.19.3 in c:\\users\\user\\anaconda3\\envs\\base (root)\\lib\\site-packages (from opencv-python) (1.21.4)\n"
     ]
    }
   ],
   "source": [
    "!pip install opencv-python"
   ]
  },
  {
   "cell_type": "markdown",
   "id": "35308fd6",
   "metadata": {},
   "source": [
    "## 2-2. 架設flask"
   ]
  },
  {
   "cell_type": "markdown",
   "id": "eb8891f3",
   "metadata": {},
   "source": [
    "### (1)最簡單的網站:"
   ]
  },
  {
   "cell_type": "code",
   "execution_count": 4,
   "id": "bbaec42e",
   "metadata": {},
   "outputs": [
    {
     "name": "stdout",
     "output_type": "stream",
     "text": [
      " * Serving Flask app '__main__' (lazy loading)\n",
      " * Environment: production\n",
      "\u001b[31m   WARNING: This is a development server. Do not use it in a production deployment.\u001b[0m\n",
      "\u001b[2m   Use a production WSGI server instead.\u001b[0m\n",
      " * Debug mode: off\n"
     ]
    },
    {
     "name": "stderr",
     "output_type": "stream",
     "text": [
      " * Running on all addresses.\n",
      "   WARNING: This is a development server. Do not use it in a production deployment.\n",
      " * Running on http://192.168.1.12:5000/ (Press CTRL+C to quit)\n",
      "192.168.1.12 - - [17/Nov/2021 08:57:18] \"GET / HTTP/1.1\" 200 -\n",
      "192.168.1.12 - - [17/Nov/2021 08:57:18] \"GET /favicon.ico HTTP/1.1\" 404 -\n"
     ]
    }
   ],
   "source": [
    "from flask import Flask\n",
    "\n",
    "app = Flask(__name__,static_url_path = '/resource',static_folder='static')\n",
    "\n",
    "@app.route('/')\n",
    "def index():\n",
    "    return 'Hello Flask'\n",
    "\n",
    "@app.route('/')\n",
    "\n",
    "\n",
    "if __name__ == \"__main__\":\n",
    "#     app.run()\n",
    "    app.run(host='0.0.0.0',port=5000)"
   ]
  },
  {
   "cell_type": "code",
   "execution_count": 8,
   "id": "e3f73d32",
   "metadata": {},
   "outputs": [
    {
     "name": "stdout",
     "output_type": "stream",
     "text": [
      " * Serving Flask app '__main__' (lazy loading)\n",
      " * Environment: production\n",
      "\u001b[31m   WARNING: This is a development server. Do not use it in a production deployment.\u001b[0m\n",
      "\u001b[2m   Use a production WSGI server instead.\u001b[0m\n",
      " * Debug mode: off\n"
     ]
    },
    {
     "name": "stderr",
     "output_type": "stream",
     "text": [
      " * Running on all addresses.\n",
      "   WARNING: This is a development server. Do not use it in a production deployment.\n",
      " * Running on http://192.168.1.12:5000/ (Press CTRL+C to quit)\n",
      "192.168.1.12 - - [17/Nov/2021 09:16:38] \"GET / HTTP/1.1\" 200 -\n",
      "192.168.1.12 - - [17/Nov/2021 09:17:33] \"GET /resource/images/trello_head.png HTTP/1.1\" 200 -\n"
     ]
    }
   ],
   "source": [
    "from flask import Flask\n",
    "\n",
    "app = Flask(__name__,static_url_path = '/resource',static_folder='./flask/static')\n",
    "\n",
    "@app.route('/')\n",
    "def index():\n",
    "    return 'Hello Flask'\n",
    "\n",
    "# @app.route('/')\n",
    "\n",
    "\n",
    "if __name__ == \"__main__\":\n",
    "#     app.run()\n",
    "    app.run(host='0.0.0.0',port=5000)"
   ]
  },
  {
   "cell_type": "markdown",
   "id": "061da57d",
   "metadata": {},
   "source": [
    "><br>\n",
    ">"
   ]
  },
  {
   "cell_type": "markdown",
   "id": "86fe4487",
   "metadata": {},
   "source": [
    "# 3.別人寫的範本: ((((((尚未完成))))))\n",
    ">參考網站:<br>\n",
    "    https://blog.csdn.net/dcrmg/article/details/81987808"
   ]
  },
  {
   "cell_type": "code",
   "execution_count": 3,
   "id": "1a4250d5",
   "metadata": {},
   "outputs": [],
   "source": [
    "from flask import Flask, render_template, request, redirect, url_for, make_response, jsonify\n",
    "from werkzeug.utils import secure_filename\n",
    "import os\n",
    "import cv2\n",
    "import time\n",
    "\n",
    "from datetime import timedelta\n",
    "\n",
    "#設置允許的文件格式:\n",
    "ALLOWED_EXTENSIONS = set(['png','jpg','JPG','PNG','bmp'])\n",
    "\n",
    "def allowed_file(filename):\n",
    "    return '.' in filename and filename.rsplit('.',1)[1] in ALLOWED_EXTENSIONS\n",
    "\n",
    "app = Flask(__name__)\n",
    "\n",
    "#設置靜態文件緩存過期時間\n",
    "app.send_file_max_age_default = timedelta(second=1)\n",
    "\n",
    "# @app.route('/upload', method=['POST','GET'])\n",
    "@app.route('/upload', method=['POST','GET'])    #添加路徑\n",
    "def upload():\n",
    "    if request.method == 'POST':\n",
    "        f = request.files['files']\n",
    "        \n",
    "        if not (f and allowed_file(f.filename)):\n",
    "            return jsonify"
   ]
  },
  {
   "cell_type": "code",
   "execution_count": null,
   "id": "b0306850",
   "metadata": {},
   "outputs": [],
   "source": []
  },
  {
   "cell_type": "code",
   "execution_count": null,
   "id": "52e26665",
   "metadata": {},
   "outputs": [],
   "source": []
  },
  {
   "cell_type": "code",
   "execution_count": null,
   "id": "50c8775f",
   "metadata": {},
   "outputs": [],
   "source": []
  }
 ],
 "metadata": {
  "kernelspec": {
   "display_name": "Python 3 (ipykernel)",
   "language": "python",
   "name": "python3"
  },
  "language_info": {
   "codemirror_mode": {
    "name": "ipython",
    "version": 3
   },
   "file_extension": ".py",
   "mimetype": "text/x-python",
   "name": "python",
   "nbconvert_exporter": "python",
   "pygments_lexer": "ipython3",
   "version": "3.9.7"
  }
 },
 "nbformat": 4,
 "nbformat_minor": 5
}
