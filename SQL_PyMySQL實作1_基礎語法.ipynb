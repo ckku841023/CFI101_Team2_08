{
 "cells": [
  {
   "cell_type": "markdown",
   "metadata": {},
   "source": [
    "# PyMySQL 第一次實作\n",
    "> 參考網站:\n",
    "    https://www.runoob.com/python3/python3-mysql.html"
   ]
  },
  {
   "cell_type": "markdown",
   "metadata": {},
   "source": [
    "## 先下載pymysql的套件\n",
    "> **記得下載時套件的名稱不是全部都小寫,只有在import時是用小寫**"
   ]
  },
  {
   "cell_type": "code",
   "execution_count": 1,
   "metadata": {},
   "outputs": [
    {
     "name": "stdout",
     "output_type": "stream",
     "text": [
      "Requirement already satisfied: PyMySQL in c:\\users\\user\\anaconda3\\lib\\site-packages (1.0.2)\n"
     ]
    }
   ],
   "source": [
    "!pip install PyMySQL"
   ]
  },
  {
   "cell_type": "markdown",
   "metadata": {},
   "source": [
    "## [實作01]: 連接到MySQL伺服器,並使用cursor來操作SQL\n",
    "> 連線到MySQL伺服器，並使用SQL寫一隻最簡單的程式，並將該數值引導到 python內\n",
    ">> **<font color='purple' size=4>[(補充)pymysql.connect內的參數意義]</font>:<br>\n",
    ">> host:要連接的數據庫的IP地址<br>\n",
    ">>user：登錄的賬戶名，如果登錄的是最高權限賬戶則為root<br>\n",
    ">>password：對應的密碼<br>\n",
    ">>db：要連接的數據庫，如需要訪問上節課存儲的IRIS數據庫，則輸入’IRIS’<br>\n",
    ">>charset：設置編碼格式，如utf8mb4就是一個編碼格式<br>\n",
    ">>cursorclass：返回到Python的結果，以什麼方式存儲，如Dict.Cursor是以字典的方式存儲**"
   ]
  },
  {
   "cell_type": "code",
   "execution_count": 7,
   "metadata": {},
   "outputs": [
    {
     "name": "stdout",
     "output_type": "stream",
     "text": [
      "Database version : 8.0.17 \n"
     ]
    }
   ],
   "source": [
    "import pymysql\n",
    " \n",
    "# 打開數據庫連結\n",
    "db = pymysql.connect(host=\"127.0.0.1\",\n",
    "                     user=\"user1\",\n",
    "                     password=\"123456\",\n",
    "                     database=\"team2_test\")\n",
    " \n",
    "# 使用 cursor() 方法創建一個游標對象 cursor\n",
    "cursor = db.cursor()\n",
    " \n",
    "# 使用 execute() 方法執行SQL : 在此使用簡單的 SELECT VERSION()指令來查詢版本 \n",
    "cursor.execute(\"SELECT VERSION()\")\n",
    " \n",
    "# 使用 fetchone() 方法獲取單條數據.\n",
    "data = cursor.fetchone()\n",
    " \n",
    "print (\"Database version : %s \" % data)\n",
    " \n",
    "# 关闭数据库连接\n",
    "db.close()"
   ]
  },
  {
   "cell_type": "markdown",
   "metadata": {},
   "source": [
    "## [實作02]: 創建一個資料表table\n",
    "> **創建數據庫表**:\n",
    "> 如果數據庫連接存在我們可以使用execute()方法來為數據庫創建表，如下創建表EMPLOYEE<br>\n",
    "> \\>\\>\\>這邊先將要使用的SQL語法以字串格式存入變數sql內。"
   ]
  },
  {
   "cell_type": "code",
   "execution_count": 38,
   "metadata": {},
   "outputs": [],
   "source": [
    "import pymysql\n",
    " \n",
    "# 打開數據庫連接\n",
    "db = pymysql.connect(host=\"127.0.0.1\",\n",
    "                     user=\"user1\",\n",
    "                     password=\"123456\",\n",
    "                     database=\"team2_test\")\n",
    " \n",
    "# 使用 cursor() 方法創建一個游標對象 cursor\n",
    "cursor = db.cursor()\n",
    " \n",
    "# 使用 execute() 方法執行 SQL，如果table存在則刪除\n",
    "cursor.execute(\"DROP TABLE IF EXISTS EMPLOYEE\")\n",
    " \n",
    "# 將預處理的SQL語法存入變數內\n",
    "sql = \"\"\"CREATE TABLE EMPLOYEE (\n",
    "         FIRST_NAME  CHAR(20) NOT NULL,\n",
    "         LAST_NAME  CHAR(20),\n",
    "         AGE INT,  \n",
    "         SEX CHAR(1),\n",
    "         INCOME FLOAT )\"\"\"\n",
    " \n",
    "cursor.execute(sql)\n",
    " \n",
    "# 關閉數據庫連接\n",
    "db.close()"
   ]
  },
  {
   "cell_type": "markdown",
   "metadata": {},
   "source": [
    "## [實作03] 數據庫插入操作\n",
    ">下面實例使用執行SQL INSERT語句向表EMPLOYEE插入記錄"
   ]
  },
  {
   "cell_type": "code",
   "execution_count": 39,
   "metadata": {},
   "outputs": [],
   "source": [
    "import pymysql\n",
    " \n",
    "# 打開數據庫連接\n",
    "db = pymysql.connect(host=\"127.0.0.1\",\n",
    "                     user=\"user1\",\n",
    "                     password=\"123456\",\n",
    "                     database=\"team2_test\")\n",
    " \n",
    "# 使用 cursor() 方法創建一個游標對象 cursor\n",
    "cursor = db.cursor()\n",
    " \n",
    "# SQL 插入語句\n",
    "sql = \"\"\"INSERT INTO EMPLOYEE(FIRST_NAME,\n",
    "         LAST_NAME, AGE, SEX, INCOME)\n",
    "         VALUES ('Mac', 'Mohan', 20, 'M', 2000)\"\"\"\n",
    "try:\n",
    "   # 執行sql語句\n",
    "   cursor.execute(sql)\n",
    "   # 提交到數據庫執行\n",
    "   db.commit()\n",
    "except:\n",
    "   # 如果發生錯誤則 rollback (recover from an error.)\n",
    "   db.rollback()\n",
    "\n",
    "#關閉數據庫連接\n",
    "db.close()"
   ]
  },
  {
   "cell_type": "markdown",
   "metadata": {},
   "source": [
    "## [實作04] 數據庫查詢操作\n",
    "> Python查詢Mysql使用fetchone()方法獲取單條數據，使用fetchall()方法獲取多條數據。<br><br>\n",
    "> fetchone(): 該方法獲取下一個結果集。結果集是一個對象。<br>\n",
    "> fetchall(): 接收全部的返回結果行。<br>\n",
    "> rowcount: 是一個只讀屬性，並返回執行excute()方法後影響的行數。<br><br>\n",
    "> ><font color='blue' size = 4>**實例:**</font><br>\n",
    "> >查詢EMPLOYEE表中salary（工資）大於1000的所有數據 (如下面操作)\n"
   ]
  },
  {
   "cell_type": "code",
   "execution_count": 48,
   "metadata": {},
   "outputs": [
    {
     "name": "stdout",
     "output_type": "stream",
     "text": [
      "[end]\n"
     ]
    }
   ],
   "source": [
    "import pymysql\n",
    " \n",
    "# 打開數據庫連接\n",
    "db = pymysql.connect(host=\"127.0.0.1\",\n",
    "                     user=\"user1\",\n",
    "                     password=\"123456\",\n",
    "                     database=\"team2_test\")\n",
    " \n",
    "# 使用 cursor() 方法創建一個游標對象 cursor\n",
    "cursor = db.cursor()\n",
    " \n",
    "# SQL 查詢語句\n",
    "sql = \"SELECT * FROM EMPLOYEE \\\n",
    "       WHERE INCOME > %s\" % (1000)\n",
    "try:\n",
    "    # 執行語句\n",
    "    cursor.execute(sql)\n",
    "    # 獲取所有紀錄表\n",
    "    results = cursor.fetchall()\n",
    "    for row in results:\n",
    "        fname = row[0]\n",
    "        lname = row[1]\n",
    "        age = row[2]\n",
    "        sex = row[3]\n",
    "        income = row[4]\n",
    "        # 打印结果\n",
    "        print (\"fname=%s,lname=%s,age=%s,sex=%s,income=%s\" % \\\n",
    "             (fname, lname, age, sex, income ))\n",
    "    print('[end]')\n",
    "except:\n",
    "    print(\"Error: unable to fetch data\")\n",
    "\n",
    "#關閉數據庫連接\n",
    "db.close()"
   ]
  },
  {
   "cell_type": "markdown",
   "metadata": {},
   "source": [
    "## [實作05] 數據庫更新操作\n",
    "> 更新操作: 用於更新數據表的數據<br>\n",
    "> ><font color='blue' size = 4>**實例:**</font><br>\n",
    "> >將 TEST 表中 SEX 為 'M' 的 AGE 字段遞增 1 (如下面操作)"
   ]
  },
  {
   "cell_type": "code",
   "execution_count": 45,
   "metadata": {},
   "outputs": [],
   "source": [
    "import pymysql\n",
    " \n",
    "# 打開數據庫連接\n",
    "db = pymysql.connect(host=\"127.0.0.1\",\n",
    "                     user=\"user1\",\n",
    "                     password=\"123456\",\n",
    "                     database=\"team2_test\")\n",
    " \n",
    "# 使用 cursor() 方法創建一個游標對象 cursor\n",
    "cursor = db.cursor()\n",
    " \n",
    "# SQL 更新語句\n",
    "sql = \"UPDATE EMPLOYEE SET AGE = AGE + 1 WHERE SEX = '%c'\" % ('M')\n",
    "try:\n",
    "   # 執行SQL語句\n",
    "   cursor.execute(sql)\n",
    "   # 提交到數據庫執行\n",
    "   db.commit()\n",
    "except:\n",
    "   # 發生錯誤時 rollback\n",
    "   db.rollback()\n",
    "\n",
    "#關閉數據連接\n",
    "db.close()"
   ]
  },
  {
   "cell_type": "markdown",
   "metadata": {},
   "source": [
    "## 刪除操作\n",
    "> 刪除操作: 用於刪除數據表中的數據。\n",
    "> ><font color='blue' size = 4>**實例:**</font><br>\n",
    "> >演示了刪除數據表 EMPLOYEE 中 AGE 大於 20 的所有數據 (如下面操作)"
   ]
  },
  {
   "cell_type": "code",
   "execution_count": 47,
   "metadata": {},
   "outputs": [],
   "source": [
    "import pymysql\n",
    " \n",
    "# 打開數據庫連接\n",
    "db = pymysql.connect(host=\"127.0.0.1\",\n",
    "                     user=\"user1\",\n",
    "                     password=\"123456\",\n",
    "                     database=\"team2_test\")\n",
    " \n",
    "# 使用 cursor() 方法創建一個游標對象 cursor\n",
    "cursor = db.cursor()\n",
    "\n",
    "# SQL 刪除語句\n",
    "sql = \"DELETE FROM EMPLOYEE WHERE AGE > %s\" % (20)\n",
    "try:\n",
    "   # 執行SQL語句\n",
    "   cursor.execute(sql)\n",
    "   # 提交修改\n",
    "   db.commit()\n",
    "except:\n",
    "   # 發生錯誤時 rollback()\n",
    "   db.rollback()\n",
    "\n",
    "#關閉連接\n",
    "db.close()"
   ]
  },
  {
   "cell_type": "markdown",
   "metadata": {},
   "source": [
    "## 執行事務:\n",
    ">事務機制可以確保數據一致性。<br><br>\n",
    ">物物應該具有4個屬性: 原子性、一致性、隔離性、持久性。這四個屬性通常稱為 <font color='red' size=3>ACID</font> 特性:\n",
    "\n",
    ">>**(1)原子性（atomicity）:一個事務是一個不可分割的工作單位，事務中包括的一系列操作要馬都做，要馬都不做。<br>\n",
    ">>(2)一致性（consistency）:一致性與原子性是密切相關的。事務必須是使數據庫從一個一致性狀態變到另一個一致性狀態。<br>\n",
    ">>(3)隔離性（isolation）:一個事務的執行不能被其他事務干擾。<br>\n",
    "即一個事務內部的操作及使用的數據對併發的其他事務室隔離的，併發執行的各個事務之間不能互相干擾。<br>\n",
    ">>持久性（durability）:持續性也稱為永久性(permanence)，指一個事務一旦提交，它對數據庫中數據的改變就應該是永久性的。<br>\n",
    "接下來的其他操作或故障不應該對其有任何影響。**\n",
    "\n",
    "<font color=red size = 4>\\>\\>\\>Python DB API 2.0 的事務提供了兩個方法 commit 與 rollback。</font> <br>\n",
    "<font color='blue' size = 4>**實例:**</font><br>"
   ]
  },
  {
   "cell_type": "code",
   "execution_count": 37,
   "metadata": {},
   "outputs": [],
   "source": [
    "import pymysql\n",
    " \n",
    "# 打開數據庫連接\n",
    "db = pymysql.connect(host=\"127.0.0.1\",\n",
    "                     user=\"user1\",\n",
    "                     password=\"123456\",\n",
    "                     database=\"team2_test\")\n",
    " \n",
    "# 使用 cursor() 方法創建一個游標對象 cursor\n",
    "cursor = db.cursor()\n",
    "\n",
    "# SQL刪除紀錄語句:\n",
    "sql = \"DELETE FROM EMPLOYEE WHERE AGE > %s\" % (20)\n",
    "try:\n",
    "   # 執行sql語句\n",
    "   cursor.execute(sql)\n",
    "   # 向數據庫提交\n",
    "   db.commit()\n",
    "except:\n",
    "   # 發生錯誤時rollback\n",
    "   db.rollback()"
   ]
  }
 ],
 "metadata": {
  "kernelspec": {
   "display_name": "Python 3",
   "language": "python",
   "name": "python3"
  },
  "language_info": {
   "codemirror_mode": {
    "name": "ipython",
    "version": 3
   },
   "file_extension": ".py",
   "mimetype": "text/x-python",
   "name": "python",
   "nbconvert_exporter": "python",
   "pygments_lexer": "ipython3",
   "version": "3.7.1"
  }
 },
 "nbformat": 4,
 "nbformat_minor": 2
}
