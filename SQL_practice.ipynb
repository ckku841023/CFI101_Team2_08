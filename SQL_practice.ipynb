{
 "cells": [
  {
   "cell_type": "markdown",
   "metadata": {},
   "source": [
    "# 一、Python專案前置作業\n",
    "> 在開始今天的實作前，將Python專案中的charts.py簡化為以下範例："
   ]
  },
  {
   "cell_type": "code",
   "execution_count": 22,
   "metadata": {},
   "outputs": [],
   "source": [
    "import requests\n",
    "# 取得Token\n",
    "def get_access_token():\n",
    "    #API網址    \n",
    "    url = \"https://account.kkbox.com/oauth2/token\" \n",
    "    \n",
    "    #標頭\n",
    "    headers = {\n",
    "        \"Content-Type\": \"application/x-www-form-urlencoded\",\n",
    "        \"Host\": \"account.kkbox.com\"\n",
    "    }\n",
    "    #參數\n",
    "    data = {\n",
    "        \"grant_type\": \"client_credentials\",\n",
    "        \"client_id\": \"貼上ID內容\",\n",
    "        \"client_secret\": \"貼上Secret內容\"\n",
    "    }\n",
    "    access_token = requests.post(url, headers=headers, data=data)\n",
    "    return access_token.json()[\"access_token\"]\n",
    " \n",
    "\n",
    "#取得該音樂排行榜的歌曲列表\n",
    "def get_charts_tracks(chart_id):\n",
    "    access_token = get_access_token()\n",
    "    url = \"https://api.kkbox.com/v1.1/charts/\" + chart_id + \"/tracks\"\n",
    "    headers = {\n",
    "        \"accept\": \"application/json\",\n",
    "        \"authorization\": \"Bearer \" + access_token\n",
    "    }\n",
    "    params = {\n",
    "        \"territory\": \"TW\"\n",
    "    }\n",
    "    response = requests.get(url, headers=headers, params=params)\n",
    "    result = response.json()[\"data\"]\n",
    "    return result "
   ]
  },
  {
   "cell_type": "code",
   "execution_count": 2,
   "metadata": {},
   "outputs": [
    {
     "name": "stdout",
     "output_type": "stream",
     "text": [
      "Requirement already satisfied: PyMySQL in c:\\users\\user\\anaconda3\\lib\\site-packages (1.0.2)\n"
     ]
    }
   ],
   "source": [
    "!pip install PyMySQL"
   ]
  },
  {
   "cell_type": "code",
   "execution_count": 2,
   "metadata": {},
   "outputs": [
    {
     "name": "stdout",
     "output_type": "stream",
     "text": [
      "Collecting plot\n",
      "  Downloading https://files.pythonhosted.org/packages/c0/30/9d60878a0685a17dff9365aa7c750fed57c236cd824c4e8378e4220ba8c6/plot-0.6.5-py2.py3-none-any.whl (135kB)\n",
      "Requirement already satisfied: pyyaml in c:\\users\\user\\anaconda3\\lib\\site-packages (from plot) (3.13)\n",
      "Requirement already satisfied: numpy in c:\\users\\user\\anaconda3\\lib\\site-packages (from plot) (1.15.4)\n",
      "Requirement already satisfied: scipy in c:\\users\\user\\anaconda3\\lib\\site-packages (from plot) (1.1.0)\n",
      "Collecting typing (from plot)\n",
      "  Downloading https://files.pythonhosted.org/packages/05/d9/6eebe19d46bd05360c9a9aae822e67a80f9242aabbfc58b641b957546607/typing-3.7.4.3.tar.gz (78kB)\n",
      "Requirement already satisfied: matplotlib in c:\\users\\user\\anaconda3\\lib\\site-packages (from plot) (3.0.2)\n",
      "Requirement already satisfied: cycler>=0.10 in c:\\users\\user\\anaconda3\\lib\\site-packages (from matplotlib->plot) (0.10.0)\n",
      "Requirement already satisfied: kiwisolver>=1.0.1 in c:\\users\\user\\anaconda3\\lib\\site-packages (from matplotlib->plot) (1.0.1)\n",
      "Requirement already satisfied: pyparsing!=2.0.4,!=2.1.2,!=2.1.6,>=2.0.1 in c:\\users\\user\\anaconda3\\lib\\site-packages (from matplotlib->plot) (2.3.0)\n",
      "Requirement already satisfied: python-dateutil>=2.1 in c:\\users\\user\\anaconda3\\lib\\site-packages (from matplotlib->plot) (2.7.5)\n",
      "Requirement already satisfied: six in c:\\users\\user\\anaconda3\\lib\\site-packages (from cycler>=0.10->matplotlib->plot) (1.12.0)\n",
      "Requirement already satisfied: setuptools in c:\\users\\user\\anaconda3\\lib\\site-packages (from kiwisolver>=1.0.1->matplotlib->plot) (40.6.3)\n",
      "Building wheels for collected packages: typing\n",
      "  Running setup.py bdist_wheel for typing: started\n",
      "  Running setup.py bdist_wheel for typing: finished with status 'done'\n",
      "  Stored in directory: C:\\Users\\user\\AppData\\Local\\pip\\Cache\\wheels\\2d\\04\\41\\8e1836e79581989c22eebac3f4e70aaac9af07b0908da173be\n",
      "Successfully built typing\n",
      "Installing collected packages: typing, plot\n",
      "Successfully installed plot-0.6.5 typing-3.7.4.3\n"
     ]
    }
   ],
   "source": [
    "!pip install plot"
   ]
  },
  {
   "cell_type": "code",
   "execution_count": 6,
   "metadata": {},
   "outputs": [
    {
     "name": "stdout",
     "output_type": "stream",
     "text": [
      "Requirement already satisfied: charts in c:\\users\\user\\anaconda3\\lib\\site-packages (0.4.6)\n"
     ]
    }
   ],
   "source": [
    "!pip install charts"
   ]
  },
  {
   "cell_type": "code",
   "execution_count": 9,
   "metadata": {
    "scrolled": true
   },
   "outputs": [],
   "source": [
    "import pymysql"
   ]
  },
  {
   "cell_type": "markdown",
   "metadata": {},
   "source": [
    "## <font color='blue'>新增資料表資料</font>\n",
    "> Python專案要存取MySQL資料庫，除了引用pymysql模組(Module)外，<u><font color='green'>還需要設定<br>\n",
    "> 連線的參數</font></u>，這邊利用Python字典(Dictionary)資料型態來進行設定，如下範例："
   ]
  },
  {
   "cell_type": "code",
   "execution_count": 10,
   "metadata": {},
   "outputs": [],
   "source": [
    "# 資料庫參數設定\n",
    "db_settings = {\n",
    "    \"host\": \"127.0.0.1\",\n",
    "    \"port\": 3306,\n",
    "    \"user\": \"root\",\n",
    "    \"password\": \"Ww12123123456\",\n",
    "    \"db\": \"team2_project_practice01\",\n",
    "    \"charset\": \"utf8\"\n",
    "}"
   ]
  },
  {
   "cell_type": "markdown",
   "metadata": {},
   "source": [
    "> 接著，將資料庫參數傳入pymysql模組(Module)的connect()方法(Method)中，<br>\n",
    ">建立Connection物件。另外，在連線的過程中，可能會發生例外錯誤，所以建議<br>\n",
    ">使用Python的try-except例外處理機制，如下範例："
   ]
  },
  {
   "cell_type": "code",
   "execution_count": 11,
   "metadata": {},
   "outputs": [],
   "source": [
    "try:\n",
    "    # 建立Connection物件\n",
    "    conn = pymysql.connect(**db_settings)\n",
    "except Exception as ex:\n",
    "    print(ex)"
   ]
  },
  {
   "cell_type": "markdown",
   "metadata": {},
   "source": [
    "> 與資料庫的連線建立完成後，要進行相關的操作，需要建立Cursor(指標)物件來執行，<br>\n",
    "> 這邊使用Python的with陳述式，當資料庫存取完成後，自動釋放連線，如下範例："
   ]
  },
  {
   "cell_type": "raw",
   "metadata": {},
   "source": [
    "import pymysql\n",
    "import charts\n",
    "# 資料庫設定\n",
    "db_settings = {\n",
    "    \"host\": \"127.0.0.1\",\n",
    "    \"port\": 3306,\n",
    "    \"user\": \"root\",\n",
    "    \"password\": \"資料庫管理員密碼\",\n",
    "    \"db\": \"kkbox\",\n",
    "    \"charset\": \"utf8\"\n",
    "}\n",
    "try:\n",
    "    # 建立Connection物件\n",
    "    conn = pymysql.connect(**db_settings)\n",
    "    # 建立Cursor物件\n",
    "    with conn.cursor() as cursor:\n",
    "      #資料表相關操作\n",
    "except Exception as ex:\n",
    "    print(ex)"
   ]
  },
  {
   "cell_type": "markdown",
   "metadata": {},
   "source": [
    "> 接著即可在with陳述式區塊中，撰寫與執行SQL語法，而新增資料至資料表中<br>\n",
    "> 需執行INSERT的SQL語法，如下範例："
   ]
  },
  {
   "cell_type": "code",
   "execution_count": 17,
   "metadata": {},
   "outputs": [
    {
     "ename": "NameError",
     "evalue": "name 'charts' is not defined",
     "output_type": "error",
     "traceback": [
      "\u001b[1;31m---------------------------------------------------------------------------\u001b[0m",
      "\u001b[1;31mNameError\u001b[0m                                 Traceback (most recent call last)",
      "\u001b[1;32m<ipython-input-17-2c1789cf4eb8>\u001b[0m in \u001b[0;36m<module>\u001b[1;34m\u001b[0m\n\u001b[0;32m      6\u001b[0m    \u001b[0mcommand\u001b[0m \u001b[1;33m=\u001b[0m \u001b[1;34m\"INSERT INTO charts(id, name, artist)VALUES(%s, %s, %s)\"\u001b[0m\u001b[1;33m\u001b[0m\u001b[1;33m\u001b[0m\u001b[0m\n\u001b[0;32m      7\u001b[0m    \u001b[1;31m# 取得華語單曲日榜\u001b[0m\u001b[1;33m\u001b[0m\u001b[1;33m\u001b[0m\u001b[1;33m\u001b[0m\u001b[0m\n\u001b[1;32m----> 8\u001b[1;33m    \u001b[0mcharts\u001b[0m \u001b[1;33m=\u001b[0m \u001b[0mcharts\u001b[0m\u001b[1;33m.\u001b[0m\u001b[0mget_charts_tracks\u001b[0m\u001b[1;33m(\u001b[0m\u001b[1;34m\"H_PilcVhX-E8N0qr1-\"\u001b[0m\u001b[1;33m)\u001b[0m\u001b[1;33m\u001b[0m\u001b[1;33m\u001b[0m\u001b[0m\n\u001b[0m\u001b[0;32m      9\u001b[0m    \u001b[1;32mfor\u001b[0m \u001b[0mchart\u001b[0m \u001b[1;32min\u001b[0m \u001b[0mcharts\u001b[0m\u001b[1;33m:\u001b[0m\u001b[1;33m\u001b[0m\u001b[1;33m\u001b[0m\u001b[0m\n\u001b[0;32m     10\u001b[0m        cursor.execute(\n",
      "\u001b[1;31mNameError\u001b[0m: name 'charts' is not defined"
     ]
    }
   ],
   "source": [
    " # 建立Connection物件\n",
    "conn = pymysql.connect(**db_settings)\n",
    "# 建立Cursor物件\n",
    "with conn.cursor() as cursor:\n",
    "    # 新增資料SQL語法\n",
    "    command = \"INSERT INTO charts(id, name, artist)VALUES(%s, %s, %s)\"\n",
    "    # 取得華語單曲日榜\n",
    "    charts = charts.get_charts_tracks(\"H_PilcVhX-E8N0qr1-\")\n",
    "    for chart in charts:\n",
    "        cursor.execute(\n",
    "            command, (chart[\"id\"], chart[\"name\"], chart[\"album\"][\"artist\"][\"name\"]))\n",
    "    # 儲存變更\n",
    "    conn.commit()"
   ]
  },
  {
   "cell_type": "code",
   "execution_count": 14,
   "metadata": {},
   "outputs": [
    {
     "name": "stdout",
     "output_type": "stream",
     "text": [
      "Database version : 8.0.17 \n"
     ]
    }
   ],
   "source": [
    "#!/usr/bin/python3\n",
    " \n",
    "import pymysql\n",
    " \n",
    "# 打开数据库连接\n",
    "db = pymysql.connect(host=\"127.0.0.1\",\n",
    "                     user=\"root\",\n",
    "                     password=\"Ww12123123456\",\n",
    "                     database=\"team2_project_practice01\")\n",
    " \n",
    "# 使用 cursor() 方法创建一个游标对象 cursor\n",
    "cursor = db.cursor()\n",
    " \n",
    "# 使用 execute()  方法执行 SQL 查询 \n",
    "cursor.execute(\"SELECT VERSION()\")\n",
    " \n",
    "# 使用 fetchone() 方法获取单条数据.\n",
    "data = cursor.fetchone()\n",
    " \n",
    "print (\"Database version : %s \" % data)\n",
    " \n",
    "# 关闭数据库连接\n",
    "db.close()"
   ]
  }
 ],
 "metadata": {
  "kernelspec": {
   "display_name": "Python 3",
   "language": "python",
   "name": "python3"
  },
  "language_info": {
   "codemirror_mode": {
    "name": "ipython",
    "version": 3
   },
   "file_extension": ".py",
   "mimetype": "text/x-python",
   "name": "python",
   "nbconvert_exporter": "python",
   "pygments_lexer": "ipython3",
   "version": "3.7.1"
  }
 },
 "nbformat": 4,
 "nbformat_minor": 2
}
