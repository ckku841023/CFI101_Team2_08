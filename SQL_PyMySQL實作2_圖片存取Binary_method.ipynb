{
 "cells": [
  {
   "cell_type": "markdown",
   "metadata": {},
   "source": [
    "# 1.先安裝套件"
   ]
  },
  {
   "cell_type": "markdown",
   "metadata": {},
   "source": [
    "## 1-1.先安裝 pymysql"
   ]
  },
  {
   "cell_type": "code",
   "execution_count": 1,
   "metadata": {},
   "outputs": [
    {
     "name": "stdout",
     "output_type": "stream",
     "text": [
      "Requirement already satisfied: PyMySQL in c:\\users\\user\\anaconda3\\envs\\base (root)\\lib\\site-packages (1.0.2)\n"
     ]
    }
   ],
   "source": [
    "!pip install PyMySQL"
   ]
  },
  {
   "cell_type": "markdown",
   "metadata": {},
   "source": [
    "## 1-2.當安裝pymysql後，萬一在操作時出現以下錯誤訊息的解決方法:\n",
    "<font color=red>To use “sha256_password” or “caching_sha2_password” for authenticate, you need to install additional dependency</font>\n",
    "> <font color=blue size=4> 此時要安裝下面兩個套件，即可正常連入MySQL workbench的server。<font>"
   ]
  },
  {
   "cell_type": "code",
   "execution_count": 2,
   "metadata": {},
   "outputs": [
    {
     "name": "stdout",
     "output_type": "stream",
     "text": [
      "Requirement already satisfied: cryptography in c:\\users\\user\\anaconda3\\envs\\base (root)\\lib\\site-packages (35.0.0)\n",
      "Requirement already satisfied: cffi>=1.12 in c:\\users\\user\\anaconda3\\envs\\base (root)\\lib\\site-packages (from cryptography) (1.14.6)\n",
      "Requirement already satisfied: pycparser in c:\\users\\user\\anaconda3\\envs\\base (root)\\lib\\site-packages (from cffi>=1.12->cryptography) (2.20)\n"
     ]
    }
   ],
   "source": [
    "!pip install cryptography"
   ]
  },
  {
   "cell_type": "code",
   "execution_count": 3,
   "metadata": {},
   "outputs": [
    {
     "name": "stdout",
     "output_type": "stream",
     "text": [
      "Requirement already satisfied: PyMySQL[rsa] in c:\\users\\user\\anaconda3\\envs\\base (root)\\lib\\site-packages (1.0.2)\n",
      "Requirement already satisfied: cryptography in c:\\users\\user\\anaconda3\\envs\\base (root)\\lib\\site-packages (from PyMySQL[rsa]) (35.0.0)\n",
      "Requirement already satisfied: cffi>=1.12 in c:\\users\\user\\anaconda3\\envs\\base (root)\\lib\\site-packages (from cryptography->PyMySQL[rsa]) (1.14.6)\n",
      "Requirement already satisfied: pycparser in c:\\users\\user\\anaconda3\\envs\\base (root)\\lib\\site-packages (from cffi>=1.12->cryptography->PyMySQL[rsa]) (2.20)\n"
     ]
    }
   ],
   "source": [
    "!pip install PyMySQL[rsa]"
   ]
  },
  {
   "cell_type": "markdown",
   "metadata": {},
   "source": [
    "## 1-3.讀取binary圖片的模組:  pillow (PIL)"
   ]
  },
  {
   "cell_type": "code",
   "execution_count": 4,
   "metadata": {},
   "outputs": [
    {
     "name": "stdout",
     "output_type": "stream",
     "text": [
      "Requirement already satisfied: pillow in c:\\users\\user\\anaconda3\\envs\\base (root)\\lib\\site-packages (8.4.0)\n"
     ]
    }
   ],
   "source": [
    "!pip install pillow"
   ]
  },
  {
   "cell_type": "markdown",
   "metadata": {},
   "source": [
    "# 2. 用SQL以 binary來儲存圖片:\n",
    ">參考網站:<br>\n",
    ">https://www.itread01.com/content/1548439400.html"
   ]
  },
  {
   "cell_type": "code",
   "execution_count": 5,
   "metadata": {},
   "outputs": [
    {
     "data": {
      "text/plain": [
       "'C:\\\\Users\\\\user\\\\Desktop\\\\職涯培訓\\\\AI訓練班課程\\\\專題實作'"
      ]
     },
     "execution_count": 5,
     "metadata": {},
     "output_type": "execute_result"
    }
   ],
   "source": [
    "#先看目前python的路徑是否正確:\n",
    "import os \n",
    "os.getcwd()"
   ]
  },
  {
   "cell_type": "markdown",
   "metadata": {},
   "source": [
    "## 2-1. 先建立要儲存圖片的 table:\n",
    "> <font color=red size=3>注意: 在 pymysql.connenct()內的參數中要建立自己sql的sever </font><br><br>\n",
    "> <b>[常見可以更動的參數]<br></b>\n",
    "> (1)host: 要是自己 Mysql的網域<br>\n",
    "> (2)port: 也是自己Mysql設定的<br>\n",
    "> <font color=blue>(3)user: 要選擇你開啟的Mysql帳號<br>\n",
    "> (4)password: 你Mysql帳號對應的密碼<br>\n",
    "> (5)database: 要開啟的database名稱。記得要選擇想要存取的table所在的database。<br><\\/font>"
   ]
  },
  {
   "cell_type": "code",
   "execution_count": 6,
   "metadata": {},
   "outputs": [
    {
     "name": "stdout",
     "output_type": "stream",
     "text": [
      "============\n",
      "Done! Table was built!\n"
     ]
    }
   ],
   "source": [
    "import pymysql\n",
    "import sys\n",
    "# from sqlalchemy.exc import OperationalError\n",
    "\n",
    "sql = '''CREATE TABLE `team2_test`.`img_practice` (\n",
    "  `img_id` INT NOT NULL,\n",
    "  `img_name` VARCHAR(45) NULL,\n",
    "  `img` BLOB NULL,\n",
    "  PRIMARY KEY (`img_id`));'''\n",
    "# 建立連線\n",
    "conn = pymysql.connect(host=\"127.0.0.1\",\n",
    "                       port = 3306,\n",
    "                       user=\"user1\",\n",
    "                       password=\"123456\",\n",
    "                       database=\"team2_test\",\n",
    "                       use_unicode=True)\n",
    "# 建立遊標\n",
    "cursor = conn.cursor()\n",
    "\n",
    "# cursor.execute(sql)   \n",
    "# # 提交，不然無法儲存新建或者修改的資料\n",
    "# conn.commit()\n",
    "# # 關閉遊標\n",
    "# cursor.close()\n",
    "# # 關閉連線\n",
    "# conn.close()\n",
    "\n",
    "try: \n",
    "    cursor.execute(sql)   \n",
    "    # 提交，不然無法儲存新建或者修改的資料\n",
    "    conn.commit()\n",
    "except:\n",
    "    print(\"[ERROR]: Table 'img_practice' already exists\")\n",
    "finally:    \n",
    "    # 關閉遊標\n",
    "    cursor.close()\n",
    "    # 關閉連線\n",
    "    conn.close()\n",
    "    \n",
    "print(\"============\")\n",
    "print(\"Done! Table was built!\")"
   ]
  },
  {
   "cell_type": "markdown",
   "metadata": {},
   "source": [
    "## 2-2. 讀取圖片，並存進sql中:"
   ]
  },
  {
   "cell_type": "code",
   "execution_count": 7,
   "metadata": {},
   "outputs": [
    {
     "name": "stdout",
     "output_type": "stream",
     "text": [
      "============\n",
      "Done! Binary picture(s) was(were) saved!\n"
     ]
    }
   ],
   "source": [
    "# -*- coding=utf-8 -*-\n",
    "import pymysql\n",
    "import sys\n",
    "\n",
    "#讀取圖片檔案\n",
    "#blob最大只能存65K的檔案\n",
    "img_name = \"rift.jpg\"\n",
    "fp = open(r\"practice_img/\"+img_name,'rb')\n",
    "img = fp.read()\n",
    "fp.close()\n",
    "# 建立連線\n",
    "conn = pymysql.connect(host=\"127.0.0.1\",\n",
    "                       port = 3306,\n",
    "                       user=\"user1\",\n",
    "                       password=\"123456\",\n",
    "                       database=\"team2_test\",\n",
    "                       use_unicode=True)\n",
    "# 建立遊標\n",
    "cursor = conn.cursor()\n",
    "\n",
    "#注意使用Binary()函式來指定儲存的是二進位制\n",
    "#cursor.execute(\"INSERT INTO demo_pic_repo SET touxiang_data= %s\" % pymysql.Binary(img))\n",
    "\n",
    "# sql語法: [cursor.execute函數第二項參數，可以將其餵入字串的]\n",
    "sql='''INSERT INTO img_practice  VALUES (%s, %s, %s);'''\n",
    "args = (1, 'rift', img)\n",
    "\n",
    "cursor.execute(sql , args)\n",
    "\n",
    "# 提交，不然無法儲存新建或者修改的資料\n",
    "conn.commit()\n",
    "\n",
    "# 關閉遊標\n",
    "cursor.close()\n",
    "# 關閉連線\n",
    "conn.close()\n",
    "\n",
    "print(\"============\")\n",
    "print(\"Done! Binary picture(s) was(were) saved!\")"
   ]
  },
  {
   "cell_type": "markdown",
   "metadata": {},
   "source": [
    "## 2-3.將 img_practice 這個table給刪除: \n",
    "### 使用DROP TABLE指令"
   ]
  },
  {
   "cell_type": "code",
   "execution_count": 8,
   "metadata": {},
   "outputs": [
    {
     "name": "stdout",
     "output_type": "stream",
     "text": [
      "============\n",
      "Done! Table is drop!\n"
     ]
    }
   ],
   "source": [
    "# -*- coding=utf-8 -*-\n",
    "import pymysql\n",
    "import sys\n",
    "\n",
    "# 建立連線\n",
    "conn = pymysql.connect(host=\"127.0.0.1\",\n",
    "                       port = 3306,\n",
    "                       user=\"user1\",\n",
    "                       password=\"123456\",\n",
    "                       database=\"team2_test\",\n",
    "                       use_unicode=True)\n",
    "# 建立遊標\n",
    "cursor = conn.cursor()\n",
    "\n",
    "sql='''DROP TABLE img_practice;'''\n",
    "\n",
    "cursor.execute(sql)\n",
    "\n",
    "# 提交，不然無法儲存新建或者修改的資料\n",
    "conn.commit()\n",
    "\n",
    "# 關閉遊標\n",
    "cursor.close()\n",
    "# 關閉連線\n",
    "conn.close()\n",
    "\n",
    "print(\"============\")\n",
    "print(\"Done! Table is drop!\")"
   ]
  },
  {
   "cell_type": "markdown",
   "metadata": {},
   "source": [
    "## 2-4. binary圖片讀取練習:\n",
    "> 以下會用到PLC(pillow)模組以及內建的io模組<br>\n",
    "> ---> PLC模組可以見1-3小節的安裝說明<br><br>\n",
    "> 參考網站:<br>\n",
    ">https://www.796t.com/article.php?id=209513"
   ]
  },
  {
   "cell_type": "code",
   "execution_count": 9,
   "metadata": {},
   "outputs": [
    {
     "name": "stdout",
     "output_type": "stream",
     "text": [
      "============\n",
      "Done! Now the image was save to the directory from binary file!\n"
     ]
    }
   ],
   "source": [
    "import io\n",
    "from PIL import Image\n",
    "import os\n",
    "\n",
    "#讀取圖片檔案\n",
    "#blob最大只能存65K的檔案\n",
    "img_name = \"rift.jpg\"\n",
    "fp = open(r\"practice_img/\"+img_name,'rb')\n",
    "img = fp.read()\n",
    "fp.close()\n",
    "\n",
    "#使用 PIL (pillow模組)中的 Image.open()來開啟圖片:\n",
    "#因為預設開啟的物件是utf-8，我們要使用內建模組 io裡面的 io.ByteIO(data) 來將讀取data的方式改成binary:\n",
    "image = Image.open(io.BytesIO(img))\n",
    "image.show()\n",
    "\n",
    "\n",
    "#設定一個資料夾路徑，之後會將圖片存放在該路徑下:\n",
    "path = r\"loadSQL_img/\"\n",
    "\n",
    "#查詢\n",
    "image.save(f\"{path}{img_name}.png\")    #pillow模組下開啟的物件，可以使用save()直接儲存圖片到指定位子\n",
    "\n",
    "print(\"============\")\n",
    "print(\"Done! Now the image was save to the directory from binary file!\")"
   ]
  },
  {
   "cell_type": "markdown",
   "metadata": {},
   "source": [
    "## 2-5.將binary格式的圖片給讀取出:\n",
    "> 參考網站:<br>\n",
    ">https://www.796t.com/article.php?id=209513"
   ]
  },
  {
   "cell_type": "markdown",
   "metadata": {},
   "source": [
    "### (1)我們再執行2-1和2-2小節的操作，重新將已經drop掉的資料庫給建回來，並存入一張圖片"
   ]
  },
  {
   "cell_type": "code",
   "execution_count": 10,
   "metadata": {},
   "outputs": [
    {
     "name": "stdout",
     "output_type": "stream",
     "text": [
      "============\n",
      "Done! table was built! & image was saved to MySQL server!\n"
     ]
    }
   ],
   "source": [
    "import pymysql\n",
    "import sys\n",
    "# from sqlalchemy.exc import OperationalError\n",
    "\n",
    "# 建立連線\n",
    "conn = pymysql.connect(host=\"127.0.0.1\",\n",
    "                       port = 3306,\n",
    "                       user=\"user1\",\n",
    "                       password=\"123456\",\n",
    "                       database=\"team2_test\",\n",
    "                       use_unicode=True)\n",
    "# 建立遊標\n",
    "cursor = conn.cursor()\n",
    "\n",
    "sql = '''CREATE TABLE `team2_test`.`img_practice` (\n",
    "  `img_id` INT NOT NULL,\n",
    "  `img_name` VARCHAR(45) NULL,\n",
    "  `img` BLOB NULL,\n",
    "  PRIMARY KEY (`img_id`));'''\n",
    "\n",
    "cursor.execute(sql)   \n",
    "\n",
    "\n",
    "sql2='''INSERT INTO img_practice  VALUES (%s, %s, %s);'''\n",
    "args = (1, 'rift', img)\n",
    "\n",
    "cursor.execute(sql2 , args)\n",
    "\n",
    "\n",
    "# 提交，不然無法儲存新建或者修改的資料\n",
    "conn.commit()\n",
    "# 關閉遊標\n",
    "cursor.close()\n",
    "# 關閉連線\n",
    "conn.close()\n",
    "\n",
    "    \n",
    "print(\"============\")\n",
    "print(\"Done! table was built! & image was saved to MySQL server!\")"
   ]
  },
  {
   "cell_type": "markdown",
   "metadata": {},
   "source": [
    "### (2)將binary格式的圖片從 SQL server取出，並存進指定路徑資料夾內:"
   ]
  },
  {
   "cell_type": "code",
   "execution_count": 11,
   "metadata": {},
   "outputs": [
    {
     "name": "stdout",
     "output_type": "stream",
     "text": [
      "saving 1_rift ...\n",
      "============\n",
      "Done! Now the image was save to the directory from MySQL server!\n"
     ]
    }
   ],
   "source": [
    "import io\n",
    "from PIL import Image\n",
    "import pymysql\n",
    "\n",
    "# 建立連線\n",
    "conn = pymysql.connect(host=\"127.0.0.1\",\n",
    "                       port = 3306,\n",
    "                       user=\"user1\",\n",
    "                       password=\"123456\",\n",
    "                       database=\"team2_test\",\n",
    "                       use_unicode=True)\n",
    "\n",
    "# 建立遊標\n",
    "cursor = conn.cursor()\n",
    "\n",
    "# sql語法: \n",
    "sql='''SELECT * FROM img_practice;''' \n",
    "cursor.execute(sql)                  #cursor已將所有資料找出 (column name存到cursor.description內，要額外提出)\n",
    "\n",
    "# 提交，不然無法儲存新建或者修改的資料\n",
    "conn.commit()\n",
    "\n",
    "field_name = [des[0] for des in cursor.description] #我們將column name從cursor.description\n",
    "img_id_index = field_name.index('img_id')\n",
    "img_index = field_name.index('img')\n",
    "img_name_index = field_name.index('img_name')\n",
    "\n",
    "for row in cursor:\n",
    "    data = row[img_index] #對應資料庫中 binary 圖片儲存的 img 欄位\n",
    "    img_id = row[img_id_index] #對應資料庫的主鍵編號 img_id欄位\n",
    "    img_name = row[img_name_index] #對應資料庫的圖片名稱 img_name欄位\n",
    "    print(f\"saving {img_id}_{img_name} ...\")\n",
    "    image = Image.open(io.BytesIO(data))\n",
    "    path = fr\"loadSQL_img/{img_id}_{img_name}.png\"\n",
    "    image.save(path)\n",
    "\n",
    "sql2 = '''DROP TABLE img_practice;'''\n",
    "cursor.execute(sql2)\n",
    "\n",
    "#關閉遊標\n",
    "cursor.close()\n",
    "# 關閉連線\n",
    "conn.close()\n",
    "print(\"============\")\n",
    "print(\"Done! Now the image was save to the directory from MySQL server!\")"
   ]
  }
 ],
 "metadata": {
  "kernelspec": {
   "display_name": "Python 3 (ipykernel)",
   "language": "python",
   "name": "python3"
  },
  "language_info": {
   "codemirror_mode": {
    "name": "ipython",
    "version": 3
   },
   "file_extension": ".py",
   "mimetype": "text/x-python",
   "name": "python",
   "nbconvert_exporter": "python",
   "pygments_lexer": "ipython3",
   "version": "3.9.7"
  }
 },
 "nbformat": 4,
 "nbformat_minor": 2
}
