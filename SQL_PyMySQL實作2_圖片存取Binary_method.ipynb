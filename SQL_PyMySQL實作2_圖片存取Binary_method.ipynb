{
 "cells": [
  {
   "cell_type": "markdown",
   "metadata": {},
   "source": [
    "# 1.先安裝套件"
   ]
  },
  {
   "cell_type": "markdown",
   "metadata": {},
   "source": [
    "## 1-1.先安裝 pymysql"
   ]
  },
  {
   "cell_type": "code",
   "execution_count": 3,
   "metadata": {},
   "outputs": [
    {
     "name": "stdout",
     "output_type": "stream",
     "text": [
      "Collecting PyMySQL\n",
      "  Using cached PyMySQL-1.0.2-py3-none-any.whl (43 kB)\n",
      "Installing collected packages: PyMySQL\n",
      "Successfully installed PyMySQL-1.0.2\n"
     ]
    }
   ],
   "source": [
    "!pip install PyMySQL"
   ]
  },
  {
   "cell_type": "markdown",
   "metadata": {},
   "source": [
    "## 1-2.當安裝pymysql後，萬一在操作時出現以下錯誤訊息的解決方法:\n",
    "<font color=red>To use “sha256_password” or “caching_sha2_password” for authenticate, you need to install additional dependency</font>\n",
    "> <font color=blue size=4> 此時要安裝下面兩個套件，即可正常連入MySQL workbench的server。<font>"
   ]
  },
  {
   "cell_type": "code",
   "execution_count": 17,
   "metadata": {},
   "outputs": [
    {
     "name": "stdout",
     "output_type": "stream",
     "text": [
      "Collecting cryptography\n",
      "  Downloading cryptography-35.0.0-cp36-abi3-win_amd64.whl (2.1 MB)\n",
      "Requirement already satisfied: cffi>=1.12 in c:\\users\\user\\anaconda3\\envs\\base (root)\\lib\\site-packages (from cryptography) (1.14.6)\n",
      "Requirement already satisfied: pycparser in c:\\users\\user\\anaconda3\\envs\\base (root)\\lib\\site-packages (from cffi>=1.12->cryptography) (2.20)\n",
      "Installing collected packages: cryptography\n",
      "Successfully installed cryptography-35.0.0\n"
     ]
    }
   ],
   "source": [
    "!pip install cryptography"
   ]
  },
  {
   "cell_type": "code",
   "execution_count": 23,
   "metadata": {},
   "outputs": [
    {
     "name": "stdout",
     "output_type": "stream",
     "text": [
      "Requirement already satisfied: PyMySQL[rsa] in c:\\users\\user\\anaconda3\\envs\\base (root)\\lib\\site-packages (1.0.2)\n",
      "Requirement already satisfied: cryptography in c:\\users\\user\\anaconda3\\envs\\base (root)\\lib\\site-packages (from PyMySQL[rsa]) (35.0.0)\n",
      "Requirement already satisfied: cffi>=1.12 in c:\\users\\user\\anaconda3\\envs\\base (root)\\lib\\site-packages (from cryptography->PyMySQL[rsa]) (1.14.6)\n",
      "Requirement already satisfied: pycparser in c:\\users\\user\\anaconda3\\envs\\base (root)\\lib\\site-packages (from cffi>=1.12->cryptography->PyMySQL[rsa]) (2.20)\n"
     ]
    }
   ],
   "source": [
    "!pip install PyMySQL[rsa]"
   ]
  },
  {
   "cell_type": "markdown",
   "metadata": {},
   "source": [
    "## 1-3.讀取binary圖片的模組:  pillow (PIL)"
   ]
  },
  {
   "cell_type": "code",
   "execution_count": 3,
   "metadata": {},
   "outputs": [
    {
     "name": "stdout",
     "output_type": "stream",
     "text": [
      "Collecting pillow\n",
      "  Downloading Pillow-8.4.0-cp39-cp39-win_amd64.whl (3.2 MB)\n",
      "Installing collected packages: pillow\n",
      "Successfully installed pillow-8.4.0\n"
     ]
    }
   ],
   "source": [
    "!pip install pillow"
   ]
  },
  {
   "cell_type": "markdown",
   "metadata": {},
   "source": [
    "# 2. 用SQL以 binary來儲存圖片:\n",
    ">參考網站:<br>\n",
    ">https://www.itread01.com/content/1548439400.html"
   ]
  },
  {
   "cell_type": "code",
   "execution_count": 5,
   "metadata": {},
   "outputs": [
    {
     "data": {
      "text/plain": [
       "'C:\\\\Users\\\\user\\\\Desktop\\\\職涯培訓\\\\AI訓練班課程\\\\專題實作'"
      ]
     },
     "execution_count": 5,
     "metadata": {},
     "output_type": "execute_result"
    }
   ],
   "source": [
    "#先看目前python的路徑是否正確:\n",
    "import os \n",
    "os.getcwd()"
   ]
  },
  {
   "cell_type": "markdown",
   "metadata": {},
   "source": [
    "## 2-1. 先建立要儲存圖片的 table:\n",
    "> <font color=red size=3>注意: 在 pymysql.connenct()內的參數中要建立自己sql的sever </font><br><br>\n",
    "> <b>[常見可以更動的參數]<br></b>\n",
    "> (1)host: 要是自己 Mysql的網域<br>\n",
    "> (2)port: 也是自己Mysql設定的<br>\n",
    "> <font color=blue>(3)user: 要選擇你開啟的Mysql帳號<br>\n",
    "> (4)password: 你Mysql帳號對應的密碼<br>\n",
    "> (5)database: 要開啟的database名稱。記得要選擇想要存取的table所在的database。<br><\\/font>"
   ]
  },
  {
   "cell_type": "code",
   "execution_count": 6,
   "metadata": {},
   "outputs": [
    {
     "name": "stdout",
     "output_type": "stream",
     "text": [
      "============\n",
      "Done! \n"
     ]
    }
   ],
   "source": [
    "import pymysql\n",
    "import sys\n",
    "# from sqlalchemy.exc import OperationalError\n",
    "\n",
    "sql = '''CREATE TABLE `team2_test`.`img_practice` (\n",
    "  `img_id` INT NOT NULL,\n",
    "  `img_name` VARCHAR(45) NULL,\n",
    "  `img` BLOB NULL,\n",
    "  PRIMARY KEY (`img_id`));'''\n",
    "# 建立連線\n",
    "conn = pymysql.connect(host=\"127.0.0.1\",\n",
    "                       port = 3306,\n",
    "                       user=\"user1\",\n",
    "                       password=\"123456\",\n",
    "                       database=\"team2_test\",\n",
    "                       use_unicode=True)\n",
    "# 建立遊標\n",
    "cursor = conn.cursor()\n",
    "\n",
    "# cursor.execute(sql)   \n",
    "# # 提交，不然無法儲存新建或者修改的資料\n",
    "# conn.commit()\n",
    "# # 關閉遊標\n",
    "# cursor.close()\n",
    "# # 關閉連線\n",
    "# conn.close()\n",
    "\n",
    "try: \n",
    "    cursor.execute(sql)   \n",
    "    # 提交，不然無法儲存新建或者修改的資料\n",
    "    conn.commit()\n",
    "except:\n",
    "    print(\"[ERROR]: Table 'img_practice' already exists\")\n",
    "finally:    \n",
    "    # 關閉遊標\n",
    "    cursor.close()\n",
    "    # 關閉連線\n",
    "    conn.close()\n",
    "    \n",
    "print(\"============\")\n",
    "print(\"Done! \")"
   ]
  },
  {
   "cell_type": "markdown",
   "metadata": {},
   "source": [
    "## 2-2. 讀取圖片，並存進sql中:"
   ]
  },
  {
   "cell_type": "code",
   "execution_count": 7,
   "metadata": {},
   "outputs": [
    {
     "name": "stdout",
     "output_type": "stream",
     "text": [
      "============\n",
      "Done! \n"
     ]
    }
   ],
   "source": [
    "# -*- coding=utf-8 -*-\n",
    "import pymysql\n",
    "import sys\n",
    "\n",
    "#讀取圖片檔案\n",
    "#blob最大只能存65K的檔案\n",
    "img_name = \"rift.jpg\"\n",
    "fp = open(r\"practice_img/\"+img_name,'rb')\n",
    "img = fp.read()\n",
    "fp.close()\n",
    "# 建立連線\n",
    "conn = pymysql.connect(host=\"127.0.0.1\",\n",
    "                       port = 3306,\n",
    "                       user=\"user1\",\n",
    "                       password=\"123456\",\n",
    "                       database=\"team2_test\",\n",
    "                       use_unicode=True)\n",
    "# 建立遊標\n",
    "cursor = conn.cursor()\n",
    "\n",
    "#注意使用Binary()函式來指定儲存的是二進位制\n",
    "#cursor.execute(\"INSERT INTO demo_pic_repo SET touxiang_data= %s\" % pymysql.Binary(img))\n",
    "\n",
    "# sql語法: [cursor.execute函數第二項參數，可以將其餵入字串的]\n",
    "sql='''INSERT INTO img_practice  VALUES (%s, %s, %s);'''\n",
    "args = (1, 'rift', img)\n",
    "\n",
    "cursor.execute(sql , args)\n",
    "\n",
    "# 提交，不然無法儲存新建或者修改的資料\n",
    "conn.commit()\n",
    "\n",
    "# 關閉遊標\n",
    "cursor.close()\n",
    "# 關閉連線\n",
    "conn.close()\n",
    "\n",
    "print(\"============\")\n",
    "print(\"Done! \")"
   ]
  },
  {
   "cell_type": "markdown",
   "metadata": {},
   "source": [
    "## 2-3.將 img_practice 這個table給刪除: \n",
    "### 使用DROP TABLE指令"
   ]
  },
  {
   "cell_type": "code",
   "execution_count": 52,
   "metadata": {},
   "outputs": [
    {
     "name": "stdout",
     "output_type": "stream",
     "text": [
      "============\n",
      "Done! \n"
     ]
    }
   ],
   "source": [
    "import pymysql\n",
    "\n",
    "# 建立連線\n",
    "conn = pymysql.connect(host=\"127.0.0.1\",\n",
    "                       port = 3306,\n",
    "                       user=\"user1\",\n",
    "                       password=\"123456\",\n",
    "                       database=\"team2_test\",\n",
    "                       use_unicode=True)\n",
    "# 建立遊標\n",
    "cursor = conn.cursor()\n",
    "# sql語法: \n",
    "sql='''Drop TABLE img_practice;'''\n",
    "cursor.execute(sql)\n",
    "\n",
    "# 提交，不然無法儲存新建或者修改的資料\n",
    "conn.commit()\n",
    "#關閉遊標\n",
    "cursor.close()\n",
    "# 關閉連線\n",
    "conn.close()\n",
    "\n",
    "print(\"============\")\n",
    "print(\"Done! \")"
   ]
  },
  {
   "cell_type": "code",
   "execution_count": null,
   "metadata": {},
   "outputs": [],
   "source": [
    "import pymysql\n",
    "\n",
    "# 建立連線\n",
    "conn = pymysql.connect(host=\"127.0.0.1\",\n",
    "                       port = 3306,\n",
    "                       user=\"user1\",\n",
    "                       password=\"123456\",\n",
    "                       database=\"team2_test\",\n",
    "                       use_unicode=True)\n",
    "# 建立遊標\n",
    "cursor = conn.cursor()\n",
    "# 提交，不然無法儲存新建或者修改的資料\n",
    "conn.commit()\n",
    "for i in range(3):\n",
    "# sql語法: \n",
    "sql='''INSERT INTO img_practice VALUES (%s%s%s);'''\n",
    "args(i,'img'.format(i),img)\n",
    "cursor.execute(sql)\n",
    "\n",
    "# 提交，不然無法儲存新建或者修改的資料\n",
    "conn.commit()\n",
    "#關閉遊標\n",
    "cursor.close()\n",
    "# 關閉連線\n",
    "conn.close()\n",
    "\n",
    "print(\"============\")\n",
    "print(\"Done! \")"
   ]
  },
  {
   "cell_type": "markdown",
   "metadata": {},
   "source": [
    "## 2-4. binary圖片讀取練習:\n",
    "> 以下會用到PLC(pillow)模組以及內建的io模組<br>\n",
    "> ---> PLC模組可以見1-3小節的安裝說明<br><br>\n",
    "> 參考網站:<br>\n",
    ">https://www.796t.com/article.php?id=209513"
   ]
  },
  {
   "cell_type": "code",
   "execution_count": 42,
   "metadata": {},
   "outputs": [],
   "source": [
    "import io\n",
    "from PIL import Image\n",
    "import os\n",
    "\n",
    "#讀取圖片檔案\n",
    "#blob最大只能存65K的檔案\n",
    "img_name = \"rift.jpg\"\n",
    "fp = open(r\"practice_img/\"+img_name,'rb')\n",
    "img = fp.read()\n",
    "fp.close()\n",
    "\n",
    "#使用 PIL (pillow模組)中的 Image.open()來開啟圖片:\n",
    "#因為預設開啟的物件是utf-8，我們要使用內建模組 io裡面的 io.ByteIO(data) 來將讀取data的方式改成binary:\n",
    "image = Image.open(io.BytesIO(img))\n",
    "image.show()\n",
    "\n",
    "\n",
    "#設定一個資料夾路徑，之後會將圖片存放在該路徑下:\n",
    "path = r\"loadSQL_img/\"\n",
    "\n",
    "#查詢\n",
    "image.save(f\"{path}{img_name}.png\")    #pillow模組下開啟的物件，可以使用save()直接儲存圖片到指定位子"
   ]
  },
  {
   "cell_type": "markdown",
   "metadata": {},
   "source": [
    "## 2-5.將binary格式的圖片給讀取出:\n",
    "> 參考網站:<br>\n",
    ">https://www.796t.com/article.php?id=209513"
   ]
  },
  {
   "cell_type": "code",
   "execution_count": 43,
   "metadata": {},
   "outputs": [
    {
     "name": "stdout",
     "output_type": "stream",
     "text": [
      "saving 1_rift ...\n",
      "============\n",
      "Done! \n"
     ]
    }
   ],
   "source": [
    "import io\n",
    "from PIL import Image\n",
    "import pymysql\n",
    "\n",
    "# 建立連線\n",
    "conn = pymysql.connect(host=\"127.0.0.1\",\n",
    "                       port = 3306,\n",
    "                       user=\"user1\",\n",
    "                       password=\"123456\",\n",
    "                       database=\"team2_test\",\n",
    "                       use_unicode=True)\n",
    "\n",
    "# 建立遊標\n",
    "cursor = conn.cursor()\n",
    "\n",
    "# sql語法: \n",
    "sql='''SELECT * FROM img_practice;'''  \n",
    "cursor.execute(sql)                  #cursor已將所有資料找出 (column name存到cursor.description內，要額外提出)\n",
    "\n",
    "# 提交，不然無法儲存新建或者修改的資料\n",
    "conn.commit()\n",
    "\n",
    "field_name = [des[0] for des in cursor.description] #我們將column name從cursor.description\n",
    "img_id_index = field_name.index('img_id')\n",
    "img_index = field_name.index('img')\n",
    "img_name_index = field_name.index('img_name')\n",
    "\n",
    "for row in cursor:\n",
    "    data = row[img_index] #對應資料庫中 binary 圖片儲存的 img 欄位\n",
    "    img_id = row[img_id_index] #對應資料庫的主鍵編號 img_id欄位\n",
    "    img_name = row[img_name_index] #對應資料庫的圖片名稱 img_name欄位\n",
    "    print(f\"saving {img_id}_{img_name} ...\")\n",
    "    image = Image.open(io.BytesIO(data))\n",
    "    path = fr\"loadSQL_img/{img_id}_{img_name}.png\"\n",
    "    image.save(path)\n",
    "\n",
    "#關閉遊標\n",
    "cursor.close()\n",
    "# 關閉連線\n",
    "conn.close()\n",
    "print(\"============\")\n",
    "print(\"Done! \")"
   ]
  },
  {
   "cell_type": "markdown",
   "metadata": {},
   "source": [
    "# 3.SQL使用名稱跟位置儲存圖片"
   ]
  },
  {
   "cell_type": "markdown",
   "metadata": {},
   "source": [
    "> 參考資料:<br>\n",
    ">    https://www.zymseo.com/big5/biancheng_310720"
   ]
  },
  {
   "cell_type": "code",
   "execution_count": null,
   "metadata": {},
   "outputs": [],
   "source": []
  },
  {
   "cell_type": "code",
   "execution_count": 9,
   "metadata": {},
   "outputs": [
    {
     "data": {
      "text/plain": [
       "<_io.BufferedReader name='C:\\\\Users\\\\user\\\\Desktop\\\\職涯培訓\\\\AI訓練班課程\\\\專題實作\\\\practice_img\\\\rift.jpg'>"
      ]
     },
     "execution_count": 9,
     "metadata": {},
     "output_type": "execute_result"
    }
   ],
   "source": [
    "#功能：將圖片匯入到MySQL資料庫\n",
    "import sys\n",
    "import pymysql\n",
    "# from PIL import Image\n",
    "import os\n",
    "\n",
    "path = r\"C:\\Users\\user\\Desktop\\職涯培訓\\AI訓練班課程\\專題實作\\practice_img\"\n",
    "\n",
    "# 讀取圖片檔案\n",
    "# fp = open(\"C:\\Users\\user\\Desktop\\職涯培訓\\AI訓練班課程\\專題實作\\practice_img\", 'rb')\n",
    "# img = fp.read()\n",
    "# fp.close()\n",
    "with open(path+r\"\\rift.jpg\",'rb') as fp:\n",
    "    fp.read()\n",
    "\n",
    "fp\n",
    "# # 建立一個MySQL連線\n",
    "# connInfo = {'host': \"127.0.0.1\",\n",
    "#             'port': 3306\n",
    "#             'user': \"user1\",\n",
    "#             'password': \"123456\",\n",
    "#             'database': \"team2_test\",\n",
    "#             'charset': 'utf8mb4',\n",
    "#             'use_unicode': True)\n",
    "    \n",
    "# conn = pymysql.connect(**connInfo)\n",
    "            \n",
    "# # 存入圖片\n",
    "# img = \n",
    "# # 建立遊標\n",
    "# cursor = conn.cursor()\n",
    "# # 注意使用Binary()函式來指定儲存的是二進位制\n",
    "# sql = \"INSERT INTO testb VALUES  (%s, %s, %s);\"\n",
    "# args = ('41', '112', img)\n",
    "# cursor.execute(sql, args)\n",
    "\n",
    "# database.commit()\n",
    "# # 關閉遊標\n",
    "# cursor.close()\n",
    "# # 關閉資料庫連線\n",
    "# conn.close()\n",
    "# print(\"============\")\n",
    "# print(\"Done! \")"
   ]
  },
  {
   "cell_type": "code",
   "execution_count": null,
   "metadata": {},
   "outputs": [],
   "source": [
    "# import module:\n",
    "# import mysql.connector\n",
    "import pymysql \n",
    "\n",
    "#  function to convert data\n",
    "def convert_data(data, file_name):\n",
    "    # Convert binary format to images\n",
    "    # or files data(with given file_name)\n",
    "    with open(file_name, 'wb') as file:\n",
    "        file.write(data)\n",
    " \n",
    " \n",
    "try:\n",
    "    # establish connection\n",
    "    connection = pymysql.connect(host=\"127.0.0.1\",\n",
    "                                 user=\"user1\",\n",
    "                                 password=\"123456\",\n",
    "                                 database=\"team2_test\")\n",
    "    cursor = connection.cursor()\n",
    "    # getting data by id value\n",
    "    query = \"\"\" SELECT * from demo where id = %s \"\"\"\n",
    " \n",
    "    id = 1\n",
    "    cursor.execute(query, (id,))\n",
    "    records = cursor.fetchall()\n",
    "    for row in records:\n",
    "        print(\"Person Id = \", row[0])\n",
    "        print(\"Person Name = \", row[1])\n",
    "        image = row[2]\n",
    "        file = row[3]\n",
    "        # Pass path with filename where we want to save our file\n",
    "        convert_data(image, \"D:\\GFG\\images\\One.png\")\n",
    "        # Pass path with filename where we want to save our file\n",
    "        convert_data(file, \"D:\\GFG\\content.txt\")\n",
    " \n",
    "    print(\"Successfully Retrieved Values from database\")\n",
    "\n",
    "except mysql.connector.Error as error:\n",
    "    print(format(error))\n",
    "finally:\n",
    "    if connection\n",
    "        cursor.close()\n",
    "        connection.close()\n",
    "        print(\"MySQL connection is closed\")"
   ]
  },
  {
   "cell_type": "code",
   "execution_count": 18,
   "metadata": {},
   "outputs": [
    {
     "ename": "Error",
     "evalue": "Already closed",
     "output_type": "error",
     "traceback": [
      "\u001b[1;31m---------------------------------------------------------------------------\u001b[0m",
      "\u001b[1;31mError\u001b[0m                                     Traceback (most recent call last)",
      "\u001b[1;32m<ipython-input-18-9162a7eff301>\u001b[0m in \u001b[0;36m<module>\u001b[1;34m\u001b[0m\n\u001b[0;32m      1\u001b[0m \u001b[0mcursor\u001b[0m\u001b[1;33m.\u001b[0m\u001b[0mclose\u001b[0m\u001b[1;33m(\u001b[0m\u001b[1;33m)\u001b[0m\u001b[1;33m\u001b[0m\u001b[1;33m\u001b[0m\u001b[0m\n\u001b[1;32m----> 2\u001b[1;33m \u001b[0mconnection\u001b[0m\u001b[1;33m.\u001b[0m\u001b[0mclose\u001b[0m\u001b[1;33m(\u001b[0m\u001b[1;33m)\u001b[0m\u001b[1;33m\u001b[0m\u001b[1;33m\u001b[0m\u001b[0m\n\u001b[0m",
      "\u001b[1;32m~\\Anaconda3\\lib\\site-packages\\pymysql\\connections.py\u001b[0m in \u001b[0;36mclose\u001b[1;34m(self)\u001b[0m\n\u001b[0;32m    402\u001b[0m         \"\"\"\n\u001b[0;32m    403\u001b[0m         \u001b[1;32mif\u001b[0m \u001b[0mself\u001b[0m\u001b[1;33m.\u001b[0m\u001b[0m_closed\u001b[0m\u001b[1;33m:\u001b[0m\u001b[1;33m\u001b[0m\u001b[1;33m\u001b[0m\u001b[0m\n\u001b[1;32m--> 404\u001b[1;33m             \u001b[1;32mraise\u001b[0m \u001b[0merr\u001b[0m\u001b[1;33m.\u001b[0m\u001b[0mError\u001b[0m\u001b[1;33m(\u001b[0m\u001b[1;34m\"Already closed\"\u001b[0m\u001b[1;33m)\u001b[0m\u001b[1;33m\u001b[0m\u001b[1;33m\u001b[0m\u001b[0m\n\u001b[0m\u001b[0;32m    405\u001b[0m         \u001b[0mself\u001b[0m\u001b[1;33m.\u001b[0m\u001b[0m_closed\u001b[0m \u001b[1;33m=\u001b[0m \u001b[1;32mTrue\u001b[0m\u001b[1;33m\u001b[0m\u001b[1;33m\u001b[0m\u001b[0m\n\u001b[0;32m    406\u001b[0m         \u001b[1;32mif\u001b[0m \u001b[0mself\u001b[0m\u001b[1;33m.\u001b[0m\u001b[0m_sock\u001b[0m \u001b[1;32mis\u001b[0m \u001b[1;32mNone\u001b[0m\u001b[1;33m:\u001b[0m\u001b[1;33m\u001b[0m\u001b[1;33m\u001b[0m\u001b[0m\n",
      "\u001b[1;31mError\u001b[0m: Already closed"
     ]
    }
   ],
   "source": [
    "cursor.close()\n",
    "connection.close()"
   ]
  },
  {
   "cell_type": "code",
   "execution_count": 5,
   "metadata": {},
   "outputs": [
    {
     "name": "stdout",
     "output_type": "stream",
     "text": [
      "C:\\Users\\user\\Desktop\\職涯培訓\\AI訓練班課程\\專題實作\\practice_img\n"
     ]
    }
   ],
   "source": [
    "path = r\"C:\\Users\\user\\Desktop\\職涯培訓\\AI訓練班課程\\專題實作\\practice_img\"\n",
    "print(path)"
   ]
  }
 ],
 "metadata": {
  "kernelspec": {
   "display_name": "Python 3 (ipykernel)",
   "language": "python",
   "name": "python3"
  },
  "language_info": {
   "codemirror_mode": {
    "name": "ipython",
    "version": 3
   },
   "file_extension": ".py",
   "mimetype": "text/x-python",
   "name": "python",
   "nbconvert_exporter": "python",
   "pygments_lexer": "ipython3",
   "version": "3.9.7"
  }
 },
 "nbformat": 4,
 "nbformat_minor": 2
}
